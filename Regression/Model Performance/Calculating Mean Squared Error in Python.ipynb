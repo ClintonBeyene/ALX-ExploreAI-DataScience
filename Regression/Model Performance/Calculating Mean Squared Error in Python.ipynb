{
 "cells": [
  {
   "cell_type": "markdown",
   "id": "aa6ed6cc-dc5e-4fac-990f-0022fc8068b7",
   "metadata": {},
   "source": [
    "# Calculating Mean Squared Error in Python \n",
    "\n",
    "The mean squared metric is largely used for determine the performance of algorithm.\n",
    "\n",
    "The formula to calculate `MSE` is as follows:\n",
    "$$\\text{MSE} = \\frac{1}{n} \\sum_{i=1}^{n} (y_i - \\hat{y}_i)^2\n",
    "$$\n",
    "\n",
    "Where: \n",
    "- $n$ is the number of data points\n",
    "- $y_i$ is the actual value\n",
    "- $\\hat{y}_i$ is the predicted value\n",
    "\n",
    "The mean squared error is the average of squared difference between the obaserved and predicted values of the variabele.\n",
    "\n",
    "In Python, the MSE can be calculated rather easily, especially with the use of lists."
   ]
  },
  {
   "cell_type": "markdown",
   "id": "90424aa0-150e-4abe-8677-39bc24e212da",
   "metadata": {},
   "source": [
    "## How to Calculate MSE\r\n",
    "\r\n",
    "1. Calculate the difference between each pair of the observed and predicted values.\r\n",
    "2. Take the square of the difference value.\r\n",
    "3. Add each of the squared differences to find the cumulative value.\r\n",
    "4. To obtain the average value, divide the cumulative value by the total number of items in the ist.\r\n",
    "list"
   ]
  },
  {
   "cell_type": "markdown",
   "id": "d029cb8a-e973-49be-87ea-85268d79e7e6",
   "metadata": {},
   "source": [
    "## Example\n",
    "\n",
    "Suppose you wish to calculate the MSE and are provided with the observed and predicted values. The steps mentioned above will be implemented as follows:"
   ]
  },
  {
   "cell_type": "code",
   "execution_count": 75,
   "id": "20c7b54a-9448-442b-be0a-38083ccdd6db",
   "metadata": {},
   "outputs": [
    {
     "name": "stdout",
     "output_type": "stream",
     "text": [
      "The Mean Square Error is: 0.83\n"
     ]
    }
   ],
   "source": [
    "import numpy as np\n",
    "\n",
    "# Actual values\n",
    "y = np.array([14, 19, 30, 18, 17, 25])\n",
    "\n",
    "# Predicted values\n",
    "y_var = np.array([13, 20, 31, 18, 16, 24])\n",
    "\n",
    "# Initialize summation\n",
    "summation = 0\n",
    "\n",
    "# Number of observations\n",
    "n = len(y)\n",
    "\n",
    "# Calculate MSE\n",
    "for i in range(n):\n",
    "    difference = y[i] - y_var[i]\n",
    "    squared_difference = difference**2\n",
    "    summation += squared_difference\n",
    "\n",
    "MSE = summation / n\n",
    "print(f\"The Mean Square Error is: {MSE:.2f}\")\n"
   ]
  }
 ],
 "metadata": {
  "kernelspec": {
   "display_name": "Python (.venv)",
   "language": "python",
   "name": ".venv"
  },
  "language_info": {
   "codemirror_mode": {
    "name": "ipython",
    "version": 3
   },
   "file_extension": ".py",
   "mimetype": "text/x-python",
   "name": "python",
   "nbconvert_exporter": "python",
   "pygments_lexer": "ipython3",
   "version": "3.12.5"
  }
 },
 "nbformat": 4,
 "nbformat_minor": 5
}
