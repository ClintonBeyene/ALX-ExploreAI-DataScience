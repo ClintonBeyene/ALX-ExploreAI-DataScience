{
 "cells": [
  {
   "attachments": {},
   "cell_type": "markdown",
   "id": "f662d169",
   "metadata": {},
   "source": [
    "# SQL advanced string functions"
   ]
  },
  {
   "attachments": {},
   "cell_type": "markdown",
   "id": "26af890c",
   "metadata": {},
   "source": [
    "In this exercise, we will use the skills we have learned so far to solve complex problems that involve string manipulation and handling. Ensure that you have downloaded the database file, Northwind.db.\n",
    "\n"
   ]
  },
  {
   "attachments": {},
   "cell_type": "markdown",
   "id": "2d230d14",
   "metadata": {
    "tags": []
   },
   "source": [
    "## Learning objectives\n",
    "\n",
    "In this train, we will:\n",
    "- Understand how to apply  SQL functions for data type conversion, null value handling, and string manipulation to solve complex problems."
   ]
  },
  {
   "attachments": {},
   "cell_type": "markdown",
   "id": "5a0b7683",
   "metadata": {
    "tags": []
   },
   "source": [
    "First, let's load our database:"
   ]
  },
  {
   "cell_type": "code",
   "execution_count": 1,
   "id": "0f34ea72",
   "metadata": {},
   "outputs": [],
   "source": [
    "# Load and activate the SQL extension to allow us to execute SQL in a Jupyter notebook.\n",
    "%load_ext sql"
   ]
  },
  {
   "cell_type": "code",
   "execution_count": 2,
   "id": "d279a04d",
   "metadata": {},
   "outputs": [],
   "source": [
    "# Load the Northwind database stored in your local machine. \n",
    "# Make sure the file is saved in the same folder as this notebook.\n",
    "%sql sqlite:///Northwind.db"
   ]
  },
  {
   "attachments": {},
   "cell_type": "markdown",
   "id": "6f8bbc0b-c31c-4274-ad13-399a9182a260",
   "metadata": {},
   "source": [
    "Here is a view of all of our tables in the database:\n",
    "\n",
    "<div align=\"center\" style=\" font-size: 80%; text-align: center; margin: 0 auto\">\n",
    "<img src=\"https://raw.githubusercontent.com/Explore-AI/Pictures/master/Northwind_ERD.png\"  style=\"width:70%\";/>\n",
    "<br>\n",
    "<br>\n",
    "    <em>Figure 1: Northwind database ERD</em>\n",
    "</div>"
   ]
  },
  {
   "attachments": {},
   "cell_type": "markdown",
   "id": "920e89d2",
   "metadata": {
    "tags": []
   },
   "source": [
    "## Exercise\n"
   ]
  },
  {
   "attachments": {},
   "cell_type": "markdown",
   "id": "86802726",
   "metadata": {},
   "source": [
    "### 1. Convert data type\n",
    "\n",
    "Given the `Employees` table, write a SQL query to convert the salary of all employees from integer to string data type."
   ]
  },
  {
   "cell_type": "markdown",
   "id": "199a42c7-6227-4ee2-8098-9e8a28c1ba11",
   "metadata": {},
   "source": [
    "The `CAST` function is used to convert one data type to another. In this query, it is used to convert the `Salary` column from an integer to a string."
   ]
  },
  {
   "cell_type": "code",
   "execution_count": 5,
   "id": "91f3421f",
   "metadata": {},
   "outputs": [
    {
     "name": "stdout",
     "output_type": "stream",
     "text": [
      " * sqlite:///Northwind.db\n",
      "Done.\n"
     ]
    },
    {
     "data": {
      "text/html": [
       "<table>\n",
       "    <thead>\n",
       "        <tr>\n",
       "            <th>SalaryString</th>\n",
       "        </tr>\n",
       "    </thead>\n",
       "    <tbody>\n",
       "        <tr>\n",
       "            <td>2954.55</td>\n",
       "        </tr>\n",
       "        <tr>\n",
       "            <td>2254.49</td>\n",
       "        </tr>\n",
       "        <tr>\n",
       "            <td>3119.15</td>\n",
       "        </tr>\n",
       "        <tr>\n",
       "            <td>1861.08</td>\n",
       "        </tr>\n",
       "        <tr>\n",
       "            <td>1744.21</td>\n",
       "        </tr>\n",
       "        <tr>\n",
       "            <td>2004.07</td>\n",
       "        </tr>\n",
       "        <tr>\n",
       "            <td>1991.55</td>\n",
       "        </tr>\n",
       "        <tr>\n",
       "            <td>2100.5</td>\n",
       "        </tr>\n",
       "        <tr>\n",
       "            <td>2333.33</td>\n",
       "        </tr>\n",
       "    </tbody>\n",
       "</table>"
      ],
      "text/plain": [
       "[('2954.55',),\n",
       " ('2254.49',),\n",
       " ('3119.15',),\n",
       " ('1861.08',),\n",
       " ('1744.21',),\n",
       " ('2004.07',),\n",
       " ('1991.55',),\n",
       " ('2100.5',),\n",
       " ('2333.33',)]"
      ]
     },
     "execution_count": 5,
     "metadata": {},
     "output_type": "execute_result"
    }
   ],
   "source": [
    "%%sql\n",
    "\n",
    "SELECT\n",
    "    CAST(Salary AS CHAR) AS SalaryString\n",
    "FROM\n",
    "    Employees;"
   ]
  },
  {
   "attachments": {},
   "cell_type": "markdown",
   "id": "f0fade51",
   "metadata": {},
   "source": [
    "### 2. Trim strings\n",
    "\n",
    "In the `Orders` table, some of the `ShipName` entries have leading and trailing white spaces. Write a SQL query to trim these white spaces."
   ]
  },
  {
   "cell_type": "markdown",
   "id": "57f572ad-fe17-4aa5-8e9b-e8ef93741d14",
   "metadata": {},
   "source": [
    "The `TRIM` function is used to remove leading and trailing spaces from a string. This query uses `TRIM` to remove spaces from the `ShipName` entries."
   ]
  },
  {
   "cell_type": "code",
   "execution_count": 9,
   "id": "748f4263",
   "metadata": {},
   "outputs": [
    {
     "name": "stdout",
     "output_type": "stream",
     "text": [
      " * sqlite:///Northwind.db\n",
      "Done.\n"
     ]
    },
    {
     "data": {
      "text/html": [
       "<table>\n",
       "    <thead>\n",
       "        <tr>\n",
       "            <th>TrimmedShipName</th>\n",
       "        </tr>\n",
       "    </thead>\n",
       "    <tbody>\n",
       "        <tr>\n",
       "            <td>Vins et alcools Chevalier</td>\n",
       "        </tr>\n",
       "        <tr>\n",
       "            <td>Toms Spezialitten</td>\n",
       "        </tr>\n",
       "        <tr>\n",
       "            <td>Hanari Carnes</td>\n",
       "        </tr>\n",
       "        <tr>\n",
       "            <td>Victuailles en stock</td>\n",
       "        </tr>\n",
       "        <tr>\n",
       "            <td>Suprmes dlices</td>\n",
       "        </tr>\n",
       "        <tr>\n",
       "            <td>Hanari Carnes</td>\n",
       "        </tr>\n",
       "        <tr>\n",
       "            <td>Chop-suey Chinese</td>\n",
       "        </tr>\n",
       "        <tr>\n",
       "            <td>Richter Supermarkt</td>\n",
       "        </tr>\n",
       "        <tr>\n",
       "            <td>Wellington Importadora</td>\n",
       "        </tr>\n",
       "        <tr>\n",
       "            <td>HILARION-Abastos</td>\n",
       "        </tr>\n",
       "    </tbody>\n",
       "</table>"
      ],
      "text/plain": [
       "[('Vins et alcools Chevalier',),\n",
       " ('Toms Spezialitten',),\n",
       " ('Hanari Carnes',),\n",
       " ('Victuailles en stock',),\n",
       " ('Suprmes dlices',),\n",
       " ('Hanari Carnes',),\n",
       " ('Chop-suey Chinese',),\n",
       " ('Richter Supermarkt',),\n",
       " ('Wellington Importadora',),\n",
       " ('HILARION-Abastos',)]"
      ]
     },
     "execution_count": 9,
     "metadata": {},
     "output_type": "execute_result"
    }
   ],
   "source": [
    "%%sql\n",
    "\n",
    "SELECT \n",
    "    TRIM(ShipName) AS TrimmedShipName\n",
    "FROM \n",
    "    Orders\n",
    "LIMIT 10;"
   ]
  },
  {
   "attachments": {},
   "cell_type": "markdown",
   "id": "f28aef00",
   "metadata": {},
   "source": [
    "### 3. Replace string\n",
    "\n",
    "The `Customers` table contains null values in the `ContactTitle` column. Write a SQL command to replace these null values with the string 'N/A'."
   ]
  },
  {
   "cell_type": "markdown",
   "id": "61b49cfd-81fb-4c1e-88b6-5da5734ccd4f",
   "metadata": {},
   "source": [
    "The `COALESCE` function returns the first non-null value in a list. In this case, it's used to replace `NULL` values in the `ContactTitle` column with `'N/A'`."
   ]
  },
  {
   "cell_type": "code",
   "execution_count": 10,
   "id": "f4621a53",
   "metadata": {},
   "outputs": [
    {
     "name": "stdout",
     "output_type": "stream",
     "text": [
      " * sqlite:///Northwind.db\n",
      "93 rows affected.\n"
     ]
    },
    {
     "data": {
      "text/plain": [
       "[]"
      ]
     },
     "execution_count": 10,
     "metadata": {},
     "output_type": "execute_result"
    }
   ],
   "source": [
    "%%sql\n",
    "\n",
    "UPDATE \n",
    "    Customers\n",
    "SET\n",
    "    ContactTitle = COALESCE(ContactTitle, 'N/A');"
   ]
  },
  {
   "attachments": {},
   "cell_type": "markdown",
   "id": "d151cbb4",
   "metadata": {},
   "source": [
    "### 4. Extract characters\n",
    "\n",
    "Write a SQL command to extract the first three characters from the `City` column in the `Customers` table."
   ]
  },
  {
   "cell_type": "markdown",
   "id": "4ad9ae97-ecb0-41c1-9360-07225d017e1b",
   "metadata": {},
   "source": [
    "The `LEFT` function is used to extract a specified number of characters from a string, starting from the left. This query extracts the first three characters from the `City` column."
   ]
  },
  {
   "cell_type": "code",
   "execution_count": 20,
   "id": "1e003247",
   "metadata": {},
   "outputs": [
    {
     "name": "stdout",
     "output_type": "stream",
     "text": [
      " * sqlite:///Northwind.db\n",
      "Done.\n"
     ]
    },
    {
     "data": {
      "text/html": [
       "<table>\n",
       "    <thead>\n",
       "        <tr>\n",
       "            <th>CitySubstring</th>\n",
       "        </tr>\n",
       "    </thead>\n",
       "    <tbody>\n",
       "        <tr>\n",
       "            <td>Ber</td>\n",
       "        </tr>\n",
       "        <tr>\n",
       "            <td>Mxi</td>\n",
       "        </tr>\n",
       "        <tr>\n",
       "            <td>Mxi</td>\n",
       "        </tr>\n",
       "        <tr>\n",
       "            <td>Lon</td>\n",
       "        </tr>\n",
       "        <tr>\n",
       "            <td>Lul</td>\n",
       "        </tr>\n",
       "    </tbody>\n",
       "</table>"
      ],
      "text/plain": [
       "[('Ber',), ('Mxi',), ('Mxi',), ('Lon',), ('Lul',)]"
      ]
     },
     "execution_count": 20,
     "metadata": {},
     "output_type": "execute_result"
    }
   ],
   "source": [
    "%%sql\n",
    "\n",
    "SELECT \n",
    "    SUBSTRING(City, 1, 3) AS CitySubstring \n",
    "FROM \n",
    "    Customers\n",
    "LIMIT 5;"
   ]
  },
  {
   "attachments": {},
   "cell_type": "markdown",
   "id": "68536eca",
   "metadata": {},
   "source": [
    "### 5. String concatenation \n",
    "\n",
    "Write a SQL query to concatenate the `FirstName` and `LastName` of employees in the `Employees` table into a new column `FullName`."
   ]
  },
  {
   "cell_type": "markdown",
   "id": "ece2919c-9d5f-4177-9457-5c6f14840ed8",
   "metadata": {},
   "source": [
    "The `CONCAT` function is used to combine two or more strings into one. This query concatenates the `FirstName` and `LastName` columns with a space in between."
   ]
  },
  {
   "cell_type": "code",
   "execution_count": 29,
   "id": "1ffadf9c",
   "metadata": {},
   "outputs": [
    {
     "name": "stdout",
     "output_type": "stream",
     "text": [
      " * sqlite:///Northwind.db\n",
      "Done.\n"
     ]
    },
    {
     "data": {
      "text/html": [
       "<table>\n",
       "    <thead>\n",
       "        <tr>\n",
       "            <th>FullName</th>\n",
       "        </tr>\n",
       "    </thead>\n",
       "    <tbody>\n",
       "        <tr>\n",
       "            <td>Nancy Davolio</td>\n",
       "        </tr>\n",
       "        <tr>\n",
       "            <td>Andrew Fuller</td>\n",
       "        </tr>\n",
       "        <tr>\n",
       "            <td>Janet Leverling</td>\n",
       "        </tr>\n",
       "        <tr>\n",
       "            <td>Margaret Peacock</td>\n",
       "        </tr>\n",
       "        <tr>\n",
       "            <td>Steven Buchanan</td>\n",
       "        </tr>\n",
       "    </tbody>\n",
       "</table>"
      ],
      "text/plain": [
       "[('Nancy Davolio',),\n",
       " ('Andrew Fuller',),\n",
       " ('Janet Leverling',),\n",
       " ('Margaret Peacock',),\n",
       " ('Steven Buchanan',)]"
      ]
     },
     "execution_count": 29,
     "metadata": {},
     "output_type": "execute_result"
    }
   ],
   "source": [
    "%%sql\n",
    "\n",
    "SELECT\n",
    "    CONCAT(FirstName, ' ', LastName) AS FullName\n",
    "FROM\n",
    "    Employees\n",
    "LIMIT 5;"
   ]
  },
  {
   "attachments": {},
   "cell_type": "markdown",
   "id": "4581f322",
   "metadata": {},
   "source": [
    "### Challenge question \n",
    "\n",
    "You are working in the marketing department of your company and you have been given the task of conducting an email marketing campaign targeting all customers based in France."
   ]
  },
  {
   "attachments": {},
   "cell_type": "markdown",
   "id": "47421da3",
   "metadata": {},
   "source": [
    "You have a `Customers` table which includes an `Email` column. However, the data isn't perfect. Some email addresses might be duplicated, others might be `NULL`, and some might have unnecessary white spaces at the start or end of the address.\n",
    "\n",
    "Your task is to clean up the data and compile a list of unique email addresses to use for the marketing campaign. Here are the requirements:"
   ]
  },
  {
   "attachments": {},
   "cell_type": "markdown",
   "id": "52250f2d",
   "metadata": {},
   "source": [
    "1. Exclude any `NULL` email addresses from your list. We can't send emails to addresses we don't have. \n",
    "2. Make sure there are no duplicates in your list. We don't want to annoy our customers by sending them the same email multiple times. \n",
    "3. Remove any unnecessary white spaces from the start or end of the email addresses. This will help avoid any errors when sending the emails."
   ]
  },
  {
   "attachments": {},
   "cell_type": "markdown",
   "id": "dcf04f83",
   "metadata": {},
   "source": [
    "Remember, the success of our campaign depends on the quality of this list!\n",
    "\n",
    "Your output should look something like this, though the exact email addresses will depend on the data in your `Customers` table:"
   ]
  },
  {
   "cell_type": "markdown",
   "id": "dd3eba4c-3d51-4ed5-9212-bbcb1ec63383",
   "metadata": {},
   "source": [
    "The SQL statement is reading data from the Customers table (`FROM` Customers).\n",
    "\n",
    "The `WHERE` clause filters out the customers who are based in France `(Country = 'France')` and whose email address is not `NULL (AND Email IS NOT NULL)`.\n",
    "\n",
    "The `SELECT DISTINCT TRIM(Email)` part of the statement is where the magic happens. `TRIM(Email)` removes any white spaces from the start and end of the email addresses. And `DISTINCT` ensures that each email address in your results is unique.\n",
    "\n",
    "Thus, this query will return a list of unique, cleaned-up email addresses for all customers in France, ready for you to use in your marketing campaign."
   ]
  },
  {
   "attachments": {},
   "cell_type": "raw",
   "id": "d8d85eb4",
   "metadata": {},
   "source": [
    "customer1@example.com\n",
    "customer2@example.com\n",
    "customer3@example.com"
   ]
  },
  {
   "cell_type": "code",
   "execution_count": null,
   "id": "a0530dd5",
   "metadata": {},
   "outputs": [],
   "source": [
    "%%sql\n",
    "\n",
    "SELECT \n",
    "    DISTINCT TRIM(Email) \n",
    "FROM \n",
    "    Customers \n",
    "WHERE \n",
    "    Country = 'France' \n",
    "    AND Email IS NOT NULL;"
   ]
  }
 ],
 "metadata": {
  "kernelspec": {
   "display_name": "Python 3 (ipykernel)",
   "language": "python",
   "name": "python3"
  },
  "language_info": {
   "codemirror_mode": {
    "name": "ipython",
    "version": 3
   },
   "file_extension": ".py",
   "mimetype": "text/x-python",
   "name": "python",
   "nbconvert_exporter": "python",
   "pygments_lexer": "ipython3",
   "version": "3.10.13"
  }
 },
 "nbformat": 4,
 "nbformat_minor": 5
}
