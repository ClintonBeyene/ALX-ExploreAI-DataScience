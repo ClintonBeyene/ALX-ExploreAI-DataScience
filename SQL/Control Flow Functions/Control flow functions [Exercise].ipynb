{
 "cells": [
  {
   "attachments": {},
   "cell_type": "markdown",
   "id": "f662d169",
   "metadata": {},
   "source": [
    "# Control flow functions"
   ]
  },
  {
   "attachments": {},
   "cell_type": "markdown",
   "id": "26af890c",
   "metadata": {},
   "source": [
    "In this exercise, we'll use control flow functions to break down a complex problem into its fundamental components."
   ]
  },
  {
   "attachments": {},
   "cell_type": "markdown",
   "id": "2d230d14",
   "metadata": {
    "tags": []
   },
   "source": [
    "## Learning objectives\n",
    "\n",
    "In this train, we will learn to:\n",
    "- Use the `IIF` control function to check for a certain condition and return a value for each scenario.\n",
    "- Use the `CASE` statement to categorise data in an existing column."
   ]
  },
  {
   "attachments": {},
   "cell_type": "markdown",
   "id": "5a0b7683",
   "metadata": {
    "tags": []
   },
   "source": [
    "First, let's load our sample database:"
   ]
  },
  {
   "cell_type": "code",
   "execution_count": 1,
   "id": "0f34ea72",
   "metadata": {},
   "outputs": [],
   "source": [
    "# Load and activate the SQL extension to allow us to execute SQL in a Jupyter notebook.\n",
    "%load_ext sql"
   ]
  },
  {
   "cell_type": "code",
   "execution_count": 2,
   "id": "d279a04d",
   "metadata": {},
   "outputs": [],
   "source": [
    "# Load the Northwind database stored in your local machine. \n",
    "# Make sure the file is saved in the same folder as this notebook.\n",
    "%sql sqlite:///Northwind.db"
   ]
  },
  {
   "attachments": {},
   "cell_type": "markdown",
   "id": "6a05d15e",
   "metadata": {},
   "source": [
    "Here is a view of all of our tables in the database:\n",
    "\n",
    "<div align=\"center\" style=\" font-size: 80%; text-align: center; margin: 0 auto\">\n",
    "<img src=\"https://raw.githubusercontent.com/Explore-AI/Pictures/master/Northwind_ERD.png\"  style=\"width:70%\";/>\n",
    "<br>\n",
    "<br>\n",
    "    <em>Figure 1: Northwind database ERD</em>\n",
    "</div>"
   ]
  },
  {
   "attachments": {},
   "cell_type": "markdown",
   "id": "920e89d2",
   "metadata": {
    "tags": []
   },
   "source": [
    "## Exercise\n"
   ]
  },
  {
   "attachments": {},
   "cell_type": "markdown",
   "id": "86802726",
   "metadata": {},
   "source": [
    "### 1. Categorise employees based on salaries\n",
    "\n",
    "Using the `Employees` table in the Northwind database, write a SQL query that returns a list of all employees along with a column `HighSalary` that shows 'Yes' if the employee's salary is above \\$50,000 and 'No' otherwise."
   ]
  },
  {
   "cell_type": "markdown",
   "id": "c804c627-1476-4aee-aa1a-682aeea32994",
   "metadata": {},
   "source": [
    "This query uses the `IIF` control function to check if each employee's salary is greater than 50,000. If it is, the function returns 'Yes', otherwise 'No'. This result is displayed in the new column `HighSalary`.\n",
    "\n",
    "Expected outcome: A table with columns `FirstName`, `LastName`, and `HighSalary`. The `HighSalary` column displays 'Yes' or 'No' depending on each employee's salary.\n",
    "\n",
    "**NOTE:** The `IF` function is not supported in SQLite, so we use the `IIF` function which is the SQLite equivalent for `IF`.\n"
   ]
  },
  {
   "cell_type": "code",
   "execution_count": 3,
   "id": "91f3421f",
   "metadata": {},
   "outputs": [
    {
     "name": "stdout",
     "output_type": "stream",
     "text": [
      " * sqlite:///Northwind.db\n",
      "Done.\n"
     ]
    },
    {
     "data": {
      "text/html": [
       "<table>\n",
       "    <thead>\n",
       "        <tr>\n",
       "            <th>name</th>\n",
       "        </tr>\n",
       "    </thead>\n",
       "    <tbody>\n",
       "        <tr>\n",
       "            <td>Categories</td>\n",
       "        </tr>\n",
       "        <tr>\n",
       "            <td>Customers</td>\n",
       "        </tr>\n",
       "        <tr>\n",
       "            <td>Region</td>\n",
       "        </tr>\n",
       "        <tr>\n",
       "            <td>Shippers</td>\n",
       "        </tr>\n",
       "        <tr>\n",
       "            <td>Suppliers</td>\n",
       "        </tr>\n",
       "        <tr>\n",
       "            <td>Employees</td>\n",
       "        </tr>\n",
       "        <tr>\n",
       "            <td>EmployeeTerritories</td>\n",
       "        </tr>\n",
       "        <tr>\n",
       "            <td>OrderDetails</td>\n",
       "        </tr>\n",
       "        <tr>\n",
       "            <td>Orders</td>\n",
       "        </tr>\n",
       "        <tr>\n",
       "            <td>Territories</td>\n",
       "        </tr>\n",
       "        <tr>\n",
       "            <td>Products</td>\n",
       "        </tr>\n",
       "    </tbody>\n",
       "</table>"
      ],
      "text/plain": [
       "[('Categories',),\n",
       " ('Customers',),\n",
       " ('Region',),\n",
       " ('Shippers',),\n",
       " ('Suppliers',),\n",
       " ('Employees',),\n",
       " ('EmployeeTerritories',),\n",
       " ('OrderDetails',),\n",
       " ('Orders',),\n",
       " ('Territories',),\n",
       " ('Products',)]"
      ]
     },
     "execution_count": 3,
     "metadata": {},
     "output_type": "execute_result"
    }
   ],
   "source": [
    "%%sql\n",
    "\n",
    "SELECT name FROM sqlite_master WHERE type = 'table';"
   ]
  },
  {
   "cell_type": "code",
   "execution_count": 5,
   "id": "41ba0a36-8d3e-4b2c-b488-8c615803c9b9",
   "metadata": {},
   "outputs": [
    {
     "name": "stdout",
     "output_type": "stream",
     "text": [
      " * sqlite:///Northwind.db\n",
      "Done.\n"
     ]
    },
    {
     "data": {
      "text/html": [
       "<table>\n",
       "    <thead>\n",
       "        <tr>\n",
       "            <th>cid</th>\n",
       "            <th>name</th>\n",
       "            <th>type</th>\n",
       "            <th>notnull</th>\n",
       "            <th>dflt_value</th>\n",
       "            <th>pk</th>\n",
       "        </tr>\n",
       "    </thead>\n",
       "    <tbody>\n",
       "        <tr>\n",
       "            <td>0</td>\n",
       "            <td>EmployeeID</td>\n",
       "            <td>int(11)</td>\n",
       "            <td>1</td>\n",
       "            <td>None</td>\n",
       "            <td>1</td>\n",
       "        </tr>\n",
       "        <tr>\n",
       "            <td>1</td>\n",
       "            <td>LastName</td>\n",
       "            <td>varchar(20)</td>\n",
       "            <td>1</td>\n",
       "            <td>None</td>\n",
       "            <td>0</td>\n",
       "        </tr>\n",
       "        <tr>\n",
       "            <td>2</td>\n",
       "            <td>FirstName</td>\n",
       "            <td>varchar(10)</td>\n",
       "            <td>1</td>\n",
       "            <td>None</td>\n",
       "            <td>0</td>\n",
       "        </tr>\n",
       "        <tr>\n",
       "            <td>3</td>\n",
       "            <td>Title</td>\n",
       "            <td>varchar(30)</td>\n",
       "            <td>0</td>\n",
       "            <td>NULL</td>\n",
       "            <td>0</td>\n",
       "        </tr>\n",
       "        <tr>\n",
       "            <td>4</td>\n",
       "            <td>TitleOfCourtesy</td>\n",
       "            <td>varchar(25)</td>\n",
       "            <td>0</td>\n",
       "            <td>NULL</td>\n",
       "            <td>0</td>\n",
       "        </tr>\n",
       "        <tr>\n",
       "            <td>5</td>\n",
       "            <td>BirthDate</td>\n",
       "            <td>datetime</td>\n",
       "            <td>0</td>\n",
       "            <td>NULL</td>\n",
       "            <td>0</td>\n",
       "        </tr>\n",
       "        <tr>\n",
       "            <td>6</td>\n",
       "            <td>HireDate</td>\n",
       "            <td>datetime</td>\n",
       "            <td>0</td>\n",
       "            <td>NULL</td>\n",
       "            <td>0</td>\n",
       "        </tr>\n",
       "        <tr>\n",
       "            <td>7</td>\n",
       "            <td>Address</td>\n",
       "            <td>varchar(60)</td>\n",
       "            <td>0</td>\n",
       "            <td>NULL</td>\n",
       "            <td>0</td>\n",
       "        </tr>\n",
       "        <tr>\n",
       "            <td>8</td>\n",
       "            <td>City</td>\n",
       "            <td>varchar(15)</td>\n",
       "            <td>0</td>\n",
       "            <td>NULL</td>\n",
       "            <td>0</td>\n",
       "        </tr>\n",
       "        <tr>\n",
       "            <td>9</td>\n",
       "            <td>Region</td>\n",
       "            <td>varchar(15)</td>\n",
       "            <td>0</td>\n",
       "            <td>NULL</td>\n",
       "            <td>0</td>\n",
       "        </tr>\n",
       "        <tr>\n",
       "            <td>10</td>\n",
       "            <td>PostalCode</td>\n",
       "            <td>varchar(10)</td>\n",
       "            <td>0</td>\n",
       "            <td>NULL</td>\n",
       "            <td>0</td>\n",
       "        </tr>\n",
       "        <tr>\n",
       "            <td>11</td>\n",
       "            <td>Country</td>\n",
       "            <td>varchar(15)</td>\n",
       "            <td>0</td>\n",
       "            <td>NULL</td>\n",
       "            <td>0</td>\n",
       "        </tr>\n",
       "        <tr>\n",
       "            <td>12</td>\n",
       "            <td>HomePhone</td>\n",
       "            <td>varchar(24)</td>\n",
       "            <td>0</td>\n",
       "            <td>NULL</td>\n",
       "            <td>0</td>\n",
       "        </tr>\n",
       "        <tr>\n",
       "            <td>13</td>\n",
       "            <td>Extension</td>\n",
       "            <td>varchar(4)</td>\n",
       "            <td>0</td>\n",
       "            <td>NULL</td>\n",
       "            <td>0</td>\n",
       "        </tr>\n",
       "        <tr>\n",
       "            <td>14</td>\n",
       "            <td>Notes</td>\n",
       "            <td>mediumtext</td>\n",
       "            <td>1</td>\n",
       "            <td>None</td>\n",
       "            <td>0</td>\n",
       "        </tr>\n",
       "        <tr>\n",
       "            <td>15</td>\n",
       "            <td>ReportsTo</td>\n",
       "            <td>int(11)</td>\n",
       "            <td>0</td>\n",
       "            <td>NULL</td>\n",
       "            <td>0</td>\n",
       "        </tr>\n",
       "        <tr>\n",
       "            <td>16</td>\n",
       "            <td>PhotoPath</td>\n",
       "            <td>varchar(255)</td>\n",
       "            <td>0</td>\n",
       "            <td>NULL</td>\n",
       "            <td>0</td>\n",
       "        </tr>\n",
       "        <tr>\n",
       "            <td>17</td>\n",
       "            <td>Salary</td>\n",
       "            <td>float</td>\n",
       "            <td>0</td>\n",
       "            <td>NULL</td>\n",
       "            <td>0</td>\n",
       "        </tr>\n",
       "    </tbody>\n",
       "</table>"
      ],
      "text/plain": [
       "[(0, 'EmployeeID', 'int(11)', 1, None, 1),\n",
       " (1, 'LastName', 'varchar(20)', 1, None, 0),\n",
       " (2, 'FirstName', 'varchar(10)', 1, None, 0),\n",
       " (3, 'Title', 'varchar(30)', 0, 'NULL', 0),\n",
       " (4, 'TitleOfCourtesy', 'varchar(25)', 0, 'NULL', 0),\n",
       " (5, 'BirthDate', 'datetime', 0, 'NULL', 0),\n",
       " (6, 'HireDate', 'datetime', 0, 'NULL', 0),\n",
       " (7, 'Address', 'varchar(60)', 0, 'NULL', 0),\n",
       " (8, 'City', 'varchar(15)', 0, 'NULL', 0),\n",
       " (9, 'Region', 'varchar(15)', 0, 'NULL', 0),\n",
       " (10, 'PostalCode', 'varchar(10)', 0, 'NULL', 0),\n",
       " (11, 'Country', 'varchar(15)', 0, 'NULL', 0),\n",
       " (12, 'HomePhone', 'varchar(24)', 0, 'NULL', 0),\n",
       " (13, 'Extension', 'varchar(4)', 0, 'NULL', 0),\n",
       " (14, 'Notes', 'mediumtext', 1, None, 0),\n",
       " (15, 'ReportsTo', 'int(11)', 0, 'NULL', 0),\n",
       " (16, 'PhotoPath', 'varchar(255)', 0, 'NULL', 0),\n",
       " (17, 'Salary', 'float', 0, 'NULL', 0)]"
      ]
     },
     "execution_count": 5,
     "metadata": {},
     "output_type": "execute_result"
    }
   ],
   "source": [
    "%%sql\n",
    "\n",
    "PRAGMA table_info(Employees);"
   ]
  },
  {
   "cell_type": "code",
   "execution_count": 10,
   "id": "47e1f6e3-ae87-4376-90de-0308524a48c3",
   "metadata": {},
   "outputs": [
    {
     "name": "stdout",
     "output_type": "stream",
     "text": [
      " * sqlite:///Northwind.db\n",
      "Done.\n"
     ]
    },
    {
     "data": {
      "text/html": [
       "<table>\n",
       "    <thead>\n",
       "        <tr>\n",
       "            <th>LastName</th>\n",
       "            <th>FirstName</th>\n",
       "            <th>HighSalary</th>\n",
       "        </tr>\n",
       "    </thead>\n",
       "    <tbody>\n",
       "        <tr>\n",
       "            <td>Davolio</td>\n",
       "            <td>Nancy</td>\n",
       "            <td>Low</td>\n",
       "        </tr>\n",
       "        <tr>\n",
       "            <td>Fuller</td>\n",
       "            <td>Andrew</td>\n",
       "            <td>Low</td>\n",
       "        </tr>\n",
       "        <tr>\n",
       "            <td>Leverling</td>\n",
       "            <td>Janet</td>\n",
       "            <td>Low</td>\n",
       "        </tr>\n",
       "        <tr>\n",
       "            <td>Peacock</td>\n",
       "            <td>Margaret</td>\n",
       "            <td>Low</td>\n",
       "        </tr>\n",
       "        <tr>\n",
       "            <td>Buchanan</td>\n",
       "            <td>Steven</td>\n",
       "            <td>Low</td>\n",
       "        </tr>\n",
       "        <tr>\n",
       "            <td>Suyama</td>\n",
       "            <td>Michael</td>\n",
       "            <td>Low</td>\n",
       "        </tr>\n",
       "        <tr>\n",
       "            <td>King</td>\n",
       "            <td>Robert</td>\n",
       "            <td>Low</td>\n",
       "        </tr>\n",
       "        <tr>\n",
       "            <td>Callahan</td>\n",
       "            <td>Laura</td>\n",
       "            <td>Low</td>\n",
       "        </tr>\n",
       "        <tr>\n",
       "            <td>Dodsworth</td>\n",
       "            <td>Anne</td>\n",
       "            <td>Low</td>\n",
       "        </tr>\n",
       "    </tbody>\n",
       "</table>"
      ],
      "text/plain": [
       "[('Davolio', 'Nancy', 'Low'),\n",
       " ('Fuller', 'Andrew', 'Low'),\n",
       " ('Leverling', 'Janet', 'Low'),\n",
       " ('Peacock', 'Margaret', 'Low'),\n",
       " ('Buchanan', 'Steven', 'Low'),\n",
       " ('Suyama', 'Michael', 'Low'),\n",
       " ('King', 'Robert', 'Low'),\n",
       " ('Callahan', 'Laura', 'Low'),\n",
       " ('Dodsworth', 'Anne', 'Low')]"
      ]
     },
     "execution_count": 10,
     "metadata": {},
     "output_type": "execute_result"
    }
   ],
   "source": [
    "%%sql\n",
    "\n",
    "SELECT \n",
    "    LastName,\n",
    "    FirstName,\n",
    "    IIF(Salary > 50000, 'Yes', 'Low') AS HighSalary\n",
    "FROM\n",
    "    Employees\n",
    "LIMIT 10;"
   ]
  },
  {
   "attachments": {},
   "cell_type": "markdown",
   "id": "f0fade51",
   "metadata": {},
   "source": [
    "### 2. Categorise orders based on quantity\n",
    "\n",
    "Based on the `OrderDetails` table, write a SQL query that categorises orders into 'Small', 'Medium', or 'Large' based on the order quantity: Small (less than 20), Medium (between 20 and 100), and Large (more than 100)."
   ]
  },
  {
   "cell_type": "markdown",
   "id": "a4e5e8e5-7243-45b5-9f25-aee4a2be16ce",
   "metadata": {},
   "source": [
    "This query uses the `CASE` statement to categorise the size of each order. If the quantity of an order is less than 20, it's categorised as 'Small'. If it's between 20 and 100, it's 'Medium'. Otherwise, it's 'Large'.\n",
    "\n",
    "Expected outcome: A table with columns `OrderID` and `OrderSize`. The `OrderSize` column displays 'Small', 'Medium', or 'Large' depending on each order's quantity."
   ]
  },
  {
   "cell_type": "code",
   "execution_count": 37,
   "id": "a5945560-c6ad-46a0-a4d3-6fbbd47e1a48",
   "metadata": {},
   "outputs": [
    {
     "name": "stdout",
     "output_type": "stream",
     "text": [
      " * sqlite:///Northwind.db\n",
      "Done.\n"
     ]
    },
    {
     "data": {
      "text/html": [
       "<table>\n",
       "    <thead>\n",
       "        <tr>\n",
       "            <th>OrderID</th>\n",
       "            <th>OrderSize</th>\n",
       "        </tr>\n",
       "    </thead>\n",
       "    <tbody>\n",
       "        <tr>\n",
       "            <td>10248</td>\n",
       "            <td>Small</td>\n",
       "        </tr>\n",
       "        <tr>\n",
       "            <td>10248</td>\n",
       "            <td>Small</td>\n",
       "        </tr>\n",
       "        <tr>\n",
       "            <td>10248</td>\n",
       "            <td>Small</td>\n",
       "        </tr>\n",
       "        <tr>\n",
       "            <td>10249</td>\n",
       "            <td>Small</td>\n",
       "        </tr>\n",
       "        <tr>\n",
       "            <td>10249</td>\n",
       "            <td>Medium</td>\n",
       "        </tr>\n",
       "        <tr>\n",
       "            <td>10250</td>\n",
       "            <td>Small</td>\n",
       "        </tr>\n",
       "        <tr>\n",
       "            <td>10250</td>\n",
       "            <td>Medium</td>\n",
       "        </tr>\n",
       "        <tr>\n",
       "            <td>10250</td>\n",
       "            <td>Small</td>\n",
       "        </tr>\n",
       "        <tr>\n",
       "            <td>10251</td>\n",
       "            <td>Small</td>\n",
       "        </tr>\n",
       "        <tr>\n",
       "            <td>10251</td>\n",
       "            <td>Small</td>\n",
       "        </tr>\n",
       "    </tbody>\n",
       "</table>"
      ],
      "text/plain": [
       "[(10248, 'Small'),\n",
       " (10248, 'Small'),\n",
       " (10248, 'Small'),\n",
       " (10249, 'Small'),\n",
       " (10249, 'Medium'),\n",
       " (10250, 'Small'),\n",
       " (10250, 'Medium'),\n",
       " (10250, 'Small'),\n",
       " (10251, 'Small'),\n",
       " (10251, 'Small')]"
      ]
     },
     "execution_count": 37,
     "metadata": {},
     "output_type": "execute_result"
    }
   ],
   "source": [
    "%%sql\n",
    "\n",
    "SELECT\n",
    "    OrderID, \n",
    "    CASE\n",
    "        WHEN (Quantity < 20) THEN 'Small'\n",
    "        WHEN Quantity BETWEEN 20 AND 100 THEN 'Medium'\n",
    "        ELSE 'Large'\n",
    "    END as OrderSize\n",
    "FROM \n",
    "    OrderDetails\n",
    "LIMIT 10;"
   ]
  },
  {
   "cell_type": "markdown",
   "id": "4871f4f1-4663-419a-ac62-09cc42f9b495",
   "metadata": {},
   "source": [
    "USING `IIF` (Equivalent to `IF` in MYSQL) we can categorize the size of each order too."
   ]
  },
  {
   "cell_type": "code",
   "execution_count": 18,
   "id": "748f4263",
   "metadata": {},
   "outputs": [
    {
     "name": "stdout",
     "output_type": "stream",
     "text": [
      " * sqlite:///Northwind.db\n",
      "Done.\n"
     ]
    },
    {
     "data": {
      "text/html": [
       "<table>\n",
       "    <thead>\n",
       "        <tr>\n",
       "            <th>OrderID</th>\n",
       "            <th>Quantity</th>\n",
       "            <th>OrderSize</th>\n",
       "        </tr>\n",
       "    </thead>\n",
       "    <tbody>\n",
       "        <tr>\n",
       "            <td>10248</td>\n",
       "            <td>12</td>\n",
       "            <td>Small</td>\n",
       "        </tr>\n",
       "        <tr>\n",
       "            <td>10248</td>\n",
       "            <td>10</td>\n",
       "            <td>Small</td>\n",
       "        </tr>\n",
       "        <tr>\n",
       "            <td>10248</td>\n",
       "            <td>5</td>\n",
       "            <td>Small</td>\n",
       "        </tr>\n",
       "        <tr>\n",
       "            <td>10249</td>\n",
       "            <td>9</td>\n",
       "            <td>Small</td>\n",
       "        </tr>\n",
       "        <tr>\n",
       "            <td>10249</td>\n",
       "            <td>40</td>\n",
       "            <td>Medium</td>\n",
       "        </tr>\n",
       "        <tr>\n",
       "            <td>10250</td>\n",
       "            <td>10</td>\n",
       "            <td>Small</td>\n",
       "        </tr>\n",
       "        <tr>\n",
       "            <td>10250</td>\n",
       "            <td>35</td>\n",
       "            <td>Medium</td>\n",
       "        </tr>\n",
       "        <tr>\n",
       "            <td>10250</td>\n",
       "            <td>15</td>\n",
       "            <td>Small</td>\n",
       "        </tr>\n",
       "        <tr>\n",
       "            <td>10251</td>\n",
       "            <td>6</td>\n",
       "            <td>Small</td>\n",
       "        </tr>\n",
       "        <tr>\n",
       "            <td>10251</td>\n",
       "            <td>15</td>\n",
       "            <td>Small</td>\n",
       "        </tr>\n",
       "    </tbody>\n",
       "</table>"
      ],
      "text/plain": [
       "[(10248, 12, 'Small'),\n",
       " (10248, 10, 'Small'),\n",
       " (10248, 5, 'Small'),\n",
       " (10249, 9, 'Small'),\n",
       " (10249, 40, 'Medium'),\n",
       " (10250, 10, 'Small'),\n",
       " (10250, 35, 'Medium'),\n",
       " (10250, 15, 'Small'),\n",
       " (10251, 6, 'Small'),\n",
       " (10251, 15, 'Small')]"
      ]
     },
     "execution_count": 18,
     "metadata": {},
     "output_type": "execute_result"
    }
   ],
   "source": [
    "%%sql\n",
    "\n",
    "SELECT\n",
    "    OrderID,\n",
    "    Quantity,\n",
    "    IIF(Quantity > 100, 'Large',\n",
    "        IIF(Quantity BETWEEN 20 AND 100, 'Medium', 'Small')\n",
    "    ) AS OrderSize\n",
    "FROM OrderDetails\n",
    "LIMIT 10;"
   ]
  },
  {
   "attachments": {},
   "cell_type": "markdown",
   "id": "f28aef00",
   "metadata": {},
   "source": [
    "### 3. Replace country if `NULL`\n",
    "\n",
    "Suppose some records in the `Customers` table have null values in the `Country` column. Write a SQL query that retrieves all customers, and if the country of a customer is `NULL`, replace it with the text 'Not Provided'."
   ]
  },
  {
   "cell_type": "markdown",
   "id": "b34b49aa-8e45-4fa2-8bea-ec0e83bc50f6",
   "metadata": {},
   "source": [
    "This query uses the `IFNULL` function to replace null values in the `Country` column with 'Not Provided'.\n",
    "\n",
    "Expected outcome: A table with columns `CustomerID`, `CompanyName`, and `Country`. The `Country` column displays the name of the country or 'Not Provided' if the original value was `NULL`."
   ]
  },
  {
   "cell_type": "code",
   "execution_count": 22,
   "id": "f4621a53",
   "metadata": {},
   "outputs": [
    {
     "name": "stdout",
     "output_type": "stream",
     "text": [
      " * sqlite:///Northwind.db\n",
      "Done.\n"
     ]
    },
    {
     "data": {
      "text/html": [
       "<table>\n",
       "    <thead>\n",
       "        <tr>\n",
       "            <th>CustomerID</th>\n",
       "            <th>CompanyName</th>\n",
       "            <th>Country</th>\n",
       "        </tr>\n",
       "    </thead>\n",
       "    <tbody>\n",
       "        <tr>\n",
       "            <td>ALFKI</td>\n",
       "            <td>Alfreds Futterkiste</td>\n",
       "            <td>Germany</td>\n",
       "        </tr>\n",
       "        <tr>\n",
       "            <td>ANATR</td>\n",
       "            <td>Ana Trujillo Emparedados y helados</td>\n",
       "            <td>Mexico</td>\n",
       "        </tr>\n",
       "        <tr>\n",
       "            <td>ANTON</td>\n",
       "            <td>Antonio Moreno Taquera</td>\n",
       "            <td>Mexico</td>\n",
       "        </tr>\n",
       "        <tr>\n",
       "            <td>AROUT</td>\n",
       "            <td>Around the Horn</td>\n",
       "            <td>UK</td>\n",
       "        </tr>\n",
       "        <tr>\n",
       "            <td>BERGS</td>\n",
       "            <td>Berglunds snabbkp</td>\n",
       "            <td>Sweden</td>\n",
       "        </tr>\n",
       "        <tr>\n",
       "            <td>BLAUS</td>\n",
       "            <td>Blauer See Delikatessen</td>\n",
       "            <td>Germany</td>\n",
       "        </tr>\n",
       "        <tr>\n",
       "            <td>BLONP</td>\n",
       "            <td>Blondesddsl pre et fils</td>\n",
       "            <td>France</td>\n",
       "        </tr>\n",
       "        <tr>\n",
       "            <td>BOLID</td>\n",
       "            <td>Blido Comidas preparadas</td>\n",
       "            <td>Spain</td>\n",
       "        </tr>\n",
       "        <tr>\n",
       "            <td>BONAP</td>\n",
       "            <td>Bon app&#x27;</td>\n",
       "            <td>France</td>\n",
       "        </tr>\n",
       "        <tr>\n",
       "            <td>BOTTM</td>\n",
       "            <td>Bottom-Dollar Markets</td>\n",
       "            <td>Canada</td>\n",
       "        </tr>\n",
       "    </tbody>\n",
       "</table>"
      ],
      "text/plain": [
       "[('ALFKI', 'Alfreds Futterkiste', 'Germany'),\n",
       " ('ANATR', 'Ana Trujillo Emparedados y helados', 'Mexico'),\n",
       " ('ANTON', 'Antonio Moreno Taquera', 'Mexico'),\n",
       " ('AROUT', 'Around the Horn', 'UK'),\n",
       " ('BERGS', 'Berglunds snabbkp', 'Sweden'),\n",
       " ('BLAUS', 'Blauer See Delikatessen', 'Germany'),\n",
       " ('BLONP', 'Blondesddsl pre et fils', 'France'),\n",
       " ('BOLID', 'Blido Comidas preparadas', 'Spain'),\n",
       " ('BONAP', \"Bon app'\", 'France'),\n",
       " ('BOTTM', 'Bottom-Dollar Markets', 'Canada')]"
      ]
     },
     "execution_count": 22,
     "metadata": {},
     "output_type": "execute_result"
    }
   ],
   "source": [
    "%%sql \n",
    "\n",
    "SELECT \n",
    "    CustomerID, \n",
    "    CompanyName, \n",
    "    IFNULL(Country, 'Not Provided') AS Country\n",
    "FROM \n",
    "    Customers\n",
    "LIMIT 10;"
   ]
  },
  {
   "attachments": {},
   "cell_type": "markdown",
   "id": "d151cbb4",
   "metadata": {},
   "source": [
    "### 4. Calculate the average price of products\n",
    "\n",
    "Using the `Products` table, write a SQL query that calculates the average unit price of all products. Then, for each product, show its name, unit price, and a column `Price Comparison` that shows whether its price is 'Below Average', 'Average', or 'Above Average'."
   ]
  },
  {
   "cell_type": "markdown",
   "id": "3e9a57a8-55a4-4993-ae77-033828d6710b",
   "metadata": {},
   "source": [
    "This query calculates the average unit price of all products. Then, it compares the unit price of each product with this average and labels it as 'Below Average', 'Average', or 'Above Average' accordingly.\n",
    "\n",
    "Expected outcome: A table with columns `ProductName`, `UnitPrice`, and `PriceComparison`. The `PriceComparison` column displays 'Below Average', 'Average', or 'Above Average' depending on each product's unit price."
   ]
  },
  {
   "cell_type": "code",
   "execution_count": 26,
   "id": "1e003247",
   "metadata": {},
   "outputs": [
    {
     "name": "stdout",
     "output_type": "stream",
     "text": [
      " * sqlite:///Northwind.db\n",
      "Done.\n"
     ]
    },
    {
     "data": {
      "text/html": [
       "<table>\n",
       "    <thead>\n",
       "        <tr>\n",
       "            <th>ProductName</th>\n",
       "            <th>UnitPrice</th>\n",
       "            <th>PriceComparison</th>\n",
       "        </tr>\n",
       "    </thead>\n",
       "    <tbody>\n",
       "        <tr>\n",
       "            <td>Chai</td>\n",
       "            <td>18</td>\n",
       "            <td>Below Average</td>\n",
       "        </tr>\n",
       "        <tr>\n",
       "            <td>Chang</td>\n",
       "            <td>19</td>\n",
       "            <td>Below Average</td>\n",
       "        </tr>\n",
       "        <tr>\n",
       "            <td>Aniseed Syrup</td>\n",
       "            <td>10</td>\n",
       "            <td>Below Average</td>\n",
       "        </tr>\n",
       "        <tr>\n",
       "            <td>Chef Anton&#x27;s Cajun Seasoning</td>\n",
       "            <td>22</td>\n",
       "            <td>Below Average</td>\n",
       "        </tr>\n",
       "        <tr>\n",
       "            <td>Chef Anton&#x27;s Gumbo Mix</td>\n",
       "            <td>21.35</td>\n",
       "            <td>Below Average</td>\n",
       "        </tr>\n",
       "        <tr>\n",
       "            <td>Grandma&#x27;s Boysenberry Spread</td>\n",
       "            <td>25</td>\n",
       "            <td>Below Average</td>\n",
       "        </tr>\n",
       "        <tr>\n",
       "            <td>Uncle Bob&#x27;s Organic Dried Pears</td>\n",
       "            <td>30</td>\n",
       "            <td>Above Average</td>\n",
       "        </tr>\n",
       "        <tr>\n",
       "            <td>Northwoods Cranberry Sauce</td>\n",
       "            <td>40</td>\n",
       "            <td>Above Average</td>\n",
       "        </tr>\n",
       "        <tr>\n",
       "            <td>Mishi Kobe Niku</td>\n",
       "            <td>97</td>\n",
       "            <td>Above Average</td>\n",
       "        </tr>\n",
       "        <tr>\n",
       "            <td>Ikura</td>\n",
       "            <td>31</td>\n",
       "            <td>Above Average</td>\n",
       "        </tr>\n",
       "    </tbody>\n",
       "</table>"
      ],
      "text/plain": [
       "[('Chai', 18, 'Below Average'),\n",
       " ('Chang', 19, 'Below Average'),\n",
       " ('Aniseed Syrup', 10, 'Below Average'),\n",
       " (\"Chef Anton's Cajun Seasoning\", 22, 'Below Average'),\n",
       " (\"Chef Anton's Gumbo Mix\", 21.35, 'Below Average'),\n",
       " (\"Grandma's Boysenberry Spread\", 25, 'Below Average'),\n",
       " (\"Uncle Bob's Organic Dried Pears\", 30, 'Above Average'),\n",
       " ('Northwoods Cranberry Sauce', 40, 'Above Average'),\n",
       " ('Mishi Kobe Niku', 97, 'Above Average'),\n",
       " ('Ikura', 31, 'Above Average')]"
      ]
     },
     "execution_count": 26,
     "metadata": {},
     "output_type": "execute_result"
    }
   ],
   "source": [
    "%%sql\n",
    "\n",
    "SELECT \n",
    "    ProductName, \n",
    "    UnitPrice, \n",
    "    CASE\n",
    "        WHEN UnitPrice < (SELECT AVG(UnitPrice) FROM Products) THEN 'Below Average'\n",
    "        WHEN UnitPrice = (SELECT AVG(UnitPrice) FROM Products) THEN 'Average'\n",
    "        ELSE 'Above Average'\n",
    "    END as PriceComparison\n",
    "FROM \n",
    "    Products\n",
    "LIMIT 10;"
   ]
  },
  {
   "attachments": {},
   "cell_type": "markdown",
   "id": "eaf9cbc7",
   "metadata": {},
   "source": [
    "### 5. Identify top management employees\n",
    "\n",
    "In the `Employees` table, assume the `ReportsTo` column has some null values which represent the highest-level employees (such as a CEO). Write a SQL query to list all employees and display a new column `Position` that labels the employee as 'Top Management' if the `ReportsTo` column is `NULL`, and 'Staff' otherwise."
   ]
  },
  {
   "cell_type": "markdown",
   "id": "a7e69848-e327-4291-9bac-a640c1c5118f",
   "metadata": {},
   "source": [
    "This query uses the `IIF` function to check if the `ReportsTo` field of an employee is `NULL`. If it is, the employee is labelled as 'Top Management', otherwise 'Staff'.\n",
    "\n",
    "Expected outcome: A table with columns `FirstName`, `LastName`, and `Position`. The `Position` column displays 'Top Management' or 'Staff' depending on the `ReportsTo` field of each employee."
   ]
  },
  {
   "cell_type": "code",
   "execution_count": 29,
   "id": "cd357061",
   "metadata": {},
   "outputs": [
    {
     "name": "stdout",
     "output_type": "stream",
     "text": [
      " * sqlite:///Northwind.db\n",
      "Done.\n"
     ]
    },
    {
     "data": {
      "text/html": [
       "<table>\n",
       "    <thead>\n",
       "        <tr>\n",
       "            <th>EmployeeID</th>\n",
       "            <th>LastName</th>\n",
       "            <th>FirstName</th>\n",
       "            <th>Position</th>\n",
       "        </tr>\n",
       "    </thead>\n",
       "    <tbody>\n",
       "        <tr>\n",
       "            <td>1</td>\n",
       "            <td>Davolio</td>\n",
       "            <td>Nancy</td>\n",
       "            <td>Staff</td>\n",
       "        </tr>\n",
       "        <tr>\n",
       "            <td>2</td>\n",
       "            <td>Fuller</td>\n",
       "            <td>Andrew</td>\n",
       "            <td>Top Management</td>\n",
       "        </tr>\n",
       "        <tr>\n",
       "            <td>3</td>\n",
       "            <td>Leverling</td>\n",
       "            <td>Janet</td>\n",
       "            <td>Staff</td>\n",
       "        </tr>\n",
       "        <tr>\n",
       "            <td>4</td>\n",
       "            <td>Peacock</td>\n",
       "            <td>Margaret</td>\n",
       "            <td>Staff</td>\n",
       "        </tr>\n",
       "        <tr>\n",
       "            <td>5</td>\n",
       "            <td>Buchanan</td>\n",
       "            <td>Steven</td>\n",
       "            <td>Staff</td>\n",
       "        </tr>\n",
       "        <tr>\n",
       "            <td>6</td>\n",
       "            <td>Suyama</td>\n",
       "            <td>Michael</td>\n",
       "            <td>Staff</td>\n",
       "        </tr>\n",
       "        <tr>\n",
       "            <td>7</td>\n",
       "            <td>King</td>\n",
       "            <td>Robert</td>\n",
       "            <td>Staff</td>\n",
       "        </tr>\n",
       "        <tr>\n",
       "            <td>8</td>\n",
       "            <td>Callahan</td>\n",
       "            <td>Laura</td>\n",
       "            <td>Staff</td>\n",
       "        </tr>\n",
       "        <tr>\n",
       "            <td>9</td>\n",
       "            <td>Dodsworth</td>\n",
       "            <td>Anne</td>\n",
       "            <td>Staff</td>\n",
       "        </tr>\n",
       "    </tbody>\n",
       "</table>"
      ],
      "text/plain": [
       "[(1, 'Davolio', 'Nancy', 'Staff'),\n",
       " (2, 'Fuller', 'Andrew', 'Top Management'),\n",
       " (3, 'Leverling', 'Janet', 'Staff'),\n",
       " (4, 'Peacock', 'Margaret', 'Staff'),\n",
       " (5, 'Buchanan', 'Steven', 'Staff'),\n",
       " (6, 'Suyama', 'Michael', 'Staff'),\n",
       " (7, 'King', 'Robert', 'Staff'),\n",
       " (8, 'Callahan', 'Laura', 'Staff'),\n",
       " (9, 'Dodsworth', 'Anne', 'Staff')]"
      ]
     },
     "execution_count": 29,
     "metadata": {},
     "output_type": "execute_result"
    }
   ],
   "source": [
    "%%sql\n",
    "\n",
    "SELECT\n",
    "    EmployeeID, \n",
    "    LastName,\n",
    "    FirstName,\n",
    "    IIF(ReportsTo IS NULL, 'Top Management', 'Staff') AS Position\n",
    "FROM\n",
    "    Employees\n",
    "LIMIT 10;"
   ]
  },
  {
   "attachments": {},
   "cell_type": "markdown",
   "id": "a9470761",
   "metadata": {},
   "source": [
    "### Challenge question\n",
    "\n",
    "You are working with a products inventory database which has a Products table with the following columns:\n",
    "\n",
    "- `ProductID`\n",
    "- `ProductName`\n",
    "- `UnitPrice`\n",
    "- `UnitsInStock`\n",
    "- `ReorderLevel`\n",
    "- `SupplierCountry`\n",
    "\n",
    "Your manager wants to assess the company's stock levels and has asked for your assistance."
   ]
  },
  {
   "attachments": {},
   "cell_type": "markdown",
   "id": "6980141e",
   "metadata": {},
   "source": [
    "Write a SQL query that retrieves the following information:\n",
    "\n",
    "- `ProductName`\n",
    "- `UnitPrice`\n",
    "- `UnitsInStock`\n",
    "- A column `StockStatus` that categorises the stock level of each product as 'Low', 'Medium', or 'High' based on the `UnitsInStock` (Use a `CASE` statement to create this column where 'Low' is less than 20 units, 'Medium' is between 20 and 50 units, 'High' is over 50 units).\n",
    "- A column `PriceLevel` that categorises the price of each product as 'Cheap', 'Affordable', or 'Expensive' based on the `UnitPrice` (Use a `CASE` statement to create this column where 'Cheap' is less than \\$10, 'Affordable' is between \\$10 and \\$50, 'Expensive' is over \\$50).\n",
    "\n",
    "Your SQL query should consider the use of aggregation functions, date functions, control flow functions, and string functions."
   ]
  },
  {
   "cell_type": "markdown",
   "id": "0725a85f-2f38-4ee3-bf51-bf5ebf3bbcbc",
   "metadata": {},
   "source": [
    "### Solutions\n",
    "\n",
    "This problem requires the integration of SQL querying with some basic logic and control flow.\n",
    "\n",
    "Here is a step-by-step breakdown of how to approach solving this problem:"
   ]
  },
  {
   "cell_type": "markdown",
   "id": "4f302a15-7c1a-4917-a821-cc30c28b8690",
   "metadata": {},
   "source": [
    "1. **Identify required fields:** The first part of the problem is straightforward. We're being asked to retrieve `ProductName`, `UnitsInStock`, and `UnitPrice` from our `Products` table. These fields can be directly selected in our SQL query.\n",
    "\n",
    "2. **Categorise stock levels:** We need to create a new field, `StockStatus`, that categorises the stock level based on the `UnitsInStock`. This requires the use of a control flow function – specifically, a `CASE` statement. The `CASE` statement allows us to conditionally return results based on the value of another field. In this case, we will categorise `UnitsInStock` as 'Low' if less than 20, 'Medium' if between 20 and 50, and 'High' if more than 50.\n",
    "\n",
    "3. **Categorise price levels:** Similarly, we need to create another field, `PriceLevel`, that categorises the price of a product based on the `UnitPrice`. We'll again use a `CASE` statement to accomplish this. We will categorise `UnitPrice` as *Cheap* if less than \\$10, *Affordable* if between \\$10 and \\$50, and *Expensive* if more than \\$50."
   ]
  },
  {
   "cell_type": "markdown",
   "id": "1ec09883-3fdd-4970-b13f-6dbcb7de7bae",
   "metadata": {},
   "source": [
    "So, to solve the problem, we would write a SQL query that selects the required fields and uses `CASE` statements to create the new `StockStatus` and `PriceLevel` fields based on the conditions described above.\n",
    "\n",
    "In SQL, this would look something like:"
   ]
  },
  {
   "cell_type": "code",
   "execution_count": 39,
   "id": "a5858f61",
   "metadata": {},
   "outputs": [
    {
     "name": "stdout",
     "output_type": "stream",
     "text": [
      " * sqlite:///Northwind.db\n",
      "Done.\n"
     ]
    },
    {
     "data": {
      "text/html": [
       "<table>\n",
       "    <thead>\n",
       "        <tr>\n",
       "            <th>ProductName</th>\n",
       "            <th>UnitsInStock</th>\n",
       "            <th>UnitPrice</th>\n",
       "            <th>StockStatus</th>\n",
       "            <th>PriceLevel</th>\n",
       "        </tr>\n",
       "    </thead>\n",
       "    <tbody>\n",
       "        <tr>\n",
       "            <td>Chai</td>\n",
       "            <td>39</td>\n",
       "            <td>18</td>\n",
       "            <td>Medium</td>\n",
       "            <td>Affordable</td>\n",
       "        </tr>\n",
       "        <tr>\n",
       "            <td>Chang</td>\n",
       "            <td>17</td>\n",
       "            <td>19</td>\n",
       "            <td>Low</td>\n",
       "            <td>Affordable</td>\n",
       "        </tr>\n",
       "        <tr>\n",
       "            <td>Aniseed Syrup</td>\n",
       "            <td>13</td>\n",
       "            <td>10</td>\n",
       "            <td>Low</td>\n",
       "            <td>Affordable</td>\n",
       "        </tr>\n",
       "        <tr>\n",
       "            <td>Chef Anton&#x27;s Cajun Seasoning</td>\n",
       "            <td>53</td>\n",
       "            <td>22</td>\n",
       "            <td>High</td>\n",
       "            <td>Affordable</td>\n",
       "        </tr>\n",
       "        <tr>\n",
       "            <td>Chef Anton&#x27;s Gumbo Mix</td>\n",
       "            <td>0</td>\n",
       "            <td>21.35</td>\n",
       "            <td>Low</td>\n",
       "            <td>Affordable</td>\n",
       "        </tr>\n",
       "        <tr>\n",
       "            <td>Grandma&#x27;s Boysenberry Spread</td>\n",
       "            <td>120</td>\n",
       "            <td>25</td>\n",
       "            <td>High</td>\n",
       "            <td>Affordable</td>\n",
       "        </tr>\n",
       "        <tr>\n",
       "            <td>Uncle Bob&#x27;s Organic Dried Pears</td>\n",
       "            <td>15</td>\n",
       "            <td>30</td>\n",
       "            <td>Low</td>\n",
       "            <td>Affordable</td>\n",
       "        </tr>\n",
       "        <tr>\n",
       "            <td>Northwoods Cranberry Sauce</td>\n",
       "            <td>6</td>\n",
       "            <td>40</td>\n",
       "            <td>Low</td>\n",
       "            <td>Affordable</td>\n",
       "        </tr>\n",
       "        <tr>\n",
       "            <td>Mishi Kobe Niku</td>\n",
       "            <td>29</td>\n",
       "            <td>97</td>\n",
       "            <td>Medium</td>\n",
       "            <td>Expensive</td>\n",
       "        </tr>\n",
       "        <tr>\n",
       "            <td>Ikura</td>\n",
       "            <td>31</td>\n",
       "            <td>31</td>\n",
       "            <td>Medium</td>\n",
       "            <td>Affordable</td>\n",
       "        </tr>\n",
       "    </tbody>\n",
       "</table>"
      ],
      "text/plain": [
       "[('Chai', 39, 18, 'Medium', 'Affordable'),\n",
       " ('Chang', 17, 19, 'Low', 'Affordable'),\n",
       " ('Aniseed Syrup', 13, 10, 'Low', 'Affordable'),\n",
       " (\"Chef Anton's Cajun Seasoning\", 53, 22, 'High', 'Affordable'),\n",
       " (\"Chef Anton's Gumbo Mix\", 0, 21.35, 'Low', 'Affordable'),\n",
       " (\"Grandma's Boysenberry Spread\", 120, 25, 'High', 'Affordable'),\n",
       " (\"Uncle Bob's Organic Dried Pears\", 15, 30, 'Low', 'Affordable'),\n",
       " ('Northwoods Cranberry Sauce', 6, 40, 'Low', 'Affordable'),\n",
       " ('Mishi Kobe Niku', 29, 97, 'Medium', 'Expensive'),\n",
       " ('Ikura', 31, 31, 'Medium', 'Affordable')]"
      ]
     },
     "execution_count": 39,
     "metadata": {},
     "output_type": "execute_result"
    }
   ],
   "source": [
    "%%sql\n",
    "\n",
    "SELECT \n",
    "    ProductName,\n",
    "    UnitsInStock,\n",
    "    UnitPrice,\n",
    "    CASE\n",
    "        WHEN UnitsInStock < 20 THEN 'Low'\n",
    "        WHEN UnitsInStock BETWEEN 20 AND 50 THEN 'Medium'\n",
    "        ELSE 'High'\n",
    "    END AS StockStatus,\n",
    "    CASE\n",
    "        WHEN UnitPrice < 10 THEN 'Cheap'\n",
    "        WHEN UnitPrice BETWEEN 10 AND 50 THEN 'Affordable'\n",
    "        ELSE 'Expensive'\n",
    "    END AS PriceLevel\n",
    "FROM \n",
    "    Products\n",
    "LIMIT 10;"
   ]
  }
 ],
 "metadata": {
  "kernelspec": {
   "display_name": "Python 3 (ipykernel)",
   "language": "python",
   "name": "python3"
  },
  "language_info": {
   "codemirror_mode": {
    "name": "ipython",
    "version": 3
   },
   "file_extension": ".py",
   "mimetype": "text/x-python",
   "name": "python",
   "nbconvert_exporter": "python",
   "pygments_lexer": "ipython3",
   "version": "3.10.13"
  }
 },
 "nbformat": 4,
 "nbformat_minor": 5
}
